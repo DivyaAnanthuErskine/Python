{
 "cells": [
  {
   "cell_type": "code",
   "execution_count": 2,
   "id": "8cd8e0b2-229a-429e-a2f5-230360630751",
   "metadata": {},
   "outputs": [
    {
     "name": "stdout",
     "output_type": "stream",
     "text": [
      "Machine Learning\n",
      "Neural Networks\n",
      "Vision\n",
      "Robotics\n",
      "Speech Processing\n",
      "Natural Language Processing\n",
      "Subfields in AI are:\n"
     ]
    }
   ],
   "source": [
    "#classconceptfn\n",
    "\n",
    "class subfieldsinAI():\n",
    "    def subfields():\n",
    "        print(\"Machine Learning\")\n",
    "        print(\"Neural Networks\")\n",
    "        print(\"Vision\")\n",
    "        print(\"Robotics\")\n",
    "        print(\"Speech Processing\")\n",
    "        print(\"Natural Language Processing\")\n",
    "        print(\"Subfields in AI are:\")\n",
    "\n",
    "subfieldsinAI.subfields()\n"
   ]
  },
  {
   "cell_type": "code",
   "execution_count": 3,
   "id": "64e0ffdd-b544-4547-aea5-94db84403e4d",
   "metadata": {},
   "outputs": [
    {
     "name": "stdin",
     "output_type": "stream",
     "text": [
      "Enter a number: 5\n"
     ]
    },
    {
     "name": "stdout",
     "output_type": "stream",
     "text": [
      "5 is Odd number\n"
     ]
    }
   ],
   "source": [
    "class Oddeven():\n",
    "    def Oddeven():\n",
    "        num= int(input(\"Enter a number:\"))\n",
    "        if(num%2!=0):\n",
    "            print(num,\"is Odd number\")\n",
    "        else:\n",
    "            print(num,\"is Even number\")\n",
    "\n",
    "Oddeven.Oddeven()\n",
    "\n",
    "    \n",
    "            "
   ]
  },
  {
   "cell_type": "code",
   "execution_count": 25,
   "id": "eff7c013-f2b6-40fa-9e3a-b938a19aacb0",
   "metadata": {},
   "outputs": [
    {
     "name": "stdin",
     "output_type": "stream",
     "text": [
      "Your Gender: Male\n",
      "Your age: 20\n"
     ]
    },
    {
     "name": "stdout",
     "output_type": "stream",
     "text": [
      "NotEligible\n"
     ]
    }
   ],
   "source": [
    "class Eligibilityformarriage():\n",
    "    def Eligible():\n",
    "        Gender=input(\"Your Gender:\")\n",
    "        age=int(input(\"Your age:\"))\n",
    "        Male=\"Male\"\n",
    "        Female=\"Female\"\n",
    "        Elg=\"Eligible\"\n",
    "        Nelg=\"NotEligible\"\n",
    "        if(Gender==Male):\n",
    "            if(age>=21):\n",
    "                print(Elg)\n",
    "            else:\n",
    "                print(Nelg)\n",
    "                \n",
    "        elif(Gender==Female):\n",
    "            if(age>=18):\n",
    "                print(Elg)\n",
    "            else:\n",
    "                print(Nelg)\n",
    "        else:\n",
    "            print(\"Not Eligible\")\n",
    "\n",
    "Eligibilityformarriage.Eligible()\n",
    "\n"
   ]
  },
  {
   "cell_type": "code",
   "execution_count": 26,
   "id": "adf71324-0217-41f7-a3b7-4374df003b71",
   "metadata": {},
   "outputs": [
    {
     "name": "stdin",
     "output_type": "stream",
     "text": [
      "Subject1: 98\n",
      "Subject2: 87\n",
      "Subject3: 95\n",
      "Subject4: 95\n",
      "Subject5: 93\n"
     ]
    },
    {
     "name": "stdout",
     "output_type": "stream",
     "text": [
      "Total is: 468\n",
      "Percentage is: 93.60000000000001\n"
     ]
    }
   ],
   "source": [
    "class Findpercent():\n",
    "    def Percentage():\n",
    "        subject1=int(input(\"Subject1:\"))\n",
    "        subject2=int(input(\"Subject2:\"))\n",
    "        subject3=int(input(\"Subject3:\"))\n",
    "        subject4=int(input(\"Subject4:\"))\n",
    "        subject5=int(input(\"Subject5:\"))\n",
    "        Total=subject1+subject2+subject3+subject4+subject5\n",
    "        print(\"Total is:\", Total)\n",
    "        Percent=float((Total/500)*100)\n",
    "        print(\"Percentage is:\", Percent)\n",
    "\n",
    "Findpercent.Percentage()"
   ]
  },
  {
   "cell_type": "code",
   "execution_count": null,
   "id": "d46a6865-bcff-4371-87c1-2ebf2b647ae7",
   "metadata": {},
   "outputs": [],
   "source": []
  }
 ],
 "metadata": {
  "kernelspec": {
   "display_name": "Python 3 (ipykernel)",
   "language": "python",
   "name": "python3"
  },
  "language_info": {
   "codemirror_mode": {
    "name": "ipython",
    "version": 3
   },
   "file_extension": ".py",
   "mimetype": "text/x-python",
   "name": "python",
   "nbconvert_exporter": "python",
   "pygments_lexer": "ipython3",
   "version": "3.12.7"
  }
 },
 "nbformat": 4,
 "nbformat_minor": 5
}
