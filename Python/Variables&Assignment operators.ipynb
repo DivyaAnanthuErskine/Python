{
 "cells": [
  {
   "cell_type": "code",
   "execution_count": 1,
   "id": "a99ad581-2747-4808-b6f0-1fc69c8e2263",
   "metadata": {},
   "outputs": [
    {
     "name": "stdout",
     "output_type": "stream",
     "text": [
      "add\n"
     ]
    }
   ],
   "source": [
    "num1 = 10\n",
    "num2 = 30\n",
    "add=num1+num2\n",
    "print(\"add\")"
   ]
  },
  {
   "cell_type": "code",
   "execution_count": 2,
   "id": "042418b2-c35b-4066-9a1e-62184999b1ec",
   "metadata": {},
   "outputs": [
    {
     "name": "stdout",
     "output_type": "stream",
     "text": [
      "add\n",
      "40\n"
     ]
    }
   ],
   "source": [
    "num1 = 10\n",
    "num2 = 30\n",
    "add=num1+num2\n",
    "print(\"add\")\n",
    "print(add)"
   ]
  },
  {
   "cell_type": "code",
   "execution_count": 3,
   "id": "6eaf74e9-c5c9-41ca-9d12-efff2ebe66ee",
   "metadata": {},
   "outputs": [
    {
     "name": "stdout",
     "output_type": "stream",
     "text": [
      "The addition of two numbers\n",
      "10\n",
      "20\n",
      "30\n"
     ]
    }
   ],
   "source": [
    "print(\"The addition of two numbers\")\n",
    "TheNumber1=10\n",
    "TheNumber2=20\n",
    "TheNumber3=30\n",
    "print(TheNumber1)\n",
    "print(TheNumber2)\n",
    "print(TheNumber3)\n",
    "\n",
    "\n"
   ]
  },
  {
   "cell_type": "code",
   "execution_count": 4,
   "id": "37c799eb-4ba0-4fbd-9564-a985599cacfa",
   "metadata": {},
   "outputs": [
    {
     "name": "stdout",
     "output_type": "stream",
     "text": [
      "The addition of two numbers\n",
      "TheNumber1: 10\n",
      "TheNumber2: 20\n",
      "The result is: 40\n"
     ]
    }
   ],
   "source": [
    "print(\"The addition of two numbers\")\n",
    "Num1=10\n",
    "Num2=20\n",
    "Add=Num1+Num2\n",
    "print(\"TheNumber1:\",Num1)\n",
    "print(\"TheNumber2:\",Num2)\n",
    "print(\"The result is:\",add)"
   ]
  },
  {
   "cell_type": "code",
   "execution_count": 5,
   "id": "0cbc8627-f27d-4bb3-a1af-711453e3e545",
   "metadata": {},
   "outputs": [
    {
     "name": "stdout",
     "output_type": "stream",
     "text": [
      "The addition of two numbers\n",
      "TheNumber1: 10\n",
      "TheNumber2: 20\n",
      "The result is: 30\n"
     ]
    }
   ],
   "source": [
    "print(\"The addition of two numbers\")\n",
    "Num1=10\n",
    "Num2=20\n",
    "print(\"TheNumber1:\",Num1)\n",
    "print(\"TheNumber2:\",Num2)\n",
    "print(\"The result is:\",Num1+Num2)"
   ]
  },
  {
   "cell_type": "code",
   "execution_count": 6,
   "id": "b9f0c6c5-0848-4894-bfda-d7a339301d8d",
   "metadata": {},
   "outputs": [
    {
     "name": "stdout",
     "output_type": "stream",
     "text": [
      "The addition of two numbers\n",
      "TheNumber1: 10\n",
      "TheNumber2: 20\n",
      "The result is: 30\n"
     ]
    }
   ],
   "source": [
    "print(\"The addition of two numbers\")\n",
    "Num1=10\n",
    "Num2=20\n",
    "print(\"TheNumber1:\",Num1)\n",
    "print(\"TheNumber2:\",Num2)\n",
    "add=Num1+Num2\n",
    "print(\"The result is:\",add)"
   ]
  },
  {
   "cell_type": "code",
   "execution_count": 7,
   "id": "6775b29e-b73b-4267-bb61-ef8d6b6e6f74",
   "metadata": {},
   "outputs": [
    {
     "name": "stdout",
     "output_type": "stream",
     "text": [
      "The addition of two numbers\n",
      "TheNumber1: 10\n",
      "TheNumber2: 20\n",
      "The result is: 30\n"
     ]
    }
   ],
   "source": [
    "print(\"The addition of two numbers\")\n",
    "Num1=10\n",
    "Num2=20\n",
    "Add=Num1+Num2\n",
    "print(\"TheNumber1:\",Num1)\n",
    "print(\"TheNumber2:\",Num2)\n",
    "print(\"The result is:\",add)"
   ]
  },
  {
   "cell_type": "code",
   "execution_count": 15,
   "id": "675098ed-7857-4feb-8bb5-3f4a8d6ecd02",
   "metadata": {},
   "outputs": [
    {
     "name": "stdout",
     "output_type": "stream",
     "text": [
      "Enter No1:\n"
     ]
    }
   ],
   "source": [
    "print(\"Enter No1:\")\n"
   ]
  },
  {
   "cell_type": "code",
   "execution_count": 17,
   "id": "5bdb138a-67f7-45fa-9a28-1a78237e3814",
   "metadata": {},
   "outputs": [
    {
     "name": "stdout",
     "output_type": "stream",
     "text": [
      "how is ur day\n"
     ]
    }
   ],
   "source": [
    "print(\"how is ur day\")\n"
   ]
  },
  {
   "cell_type": "code",
   "execution_count": null,
   "id": "6a23bdd7-156b-4c23-ba92-5136e2d552b6",
   "metadata": {},
   "outputs": [],
   "source": []
  }
 ],
 "metadata": {
  "kernelspec": {
   "display_name": "Python 3 (ipykernel)",
   "language": "python",
   "name": "python3"
  },
  "language_info": {
   "codemirror_mode": {
    "name": "ipython",
    "version": 3
   },
   "file_extension": ".py",
   "mimetype": "text/x-python",
   "name": "python",
   "nbconvert_exporter": "python",
   "pygments_lexer": "ipython3",
   "version": "3.12.7"
  }
 },
 "nbformat": 4,
 "nbformat_minor": 5
}
