{
 "cells": [
  {
   "cell_type": "code",
   "execution_count": 1,
   "id": "f4374ea2-c2fc-4311-97fa-58e1c821c846",
   "metadata": {},
   "outputs": [
    {
     "name": "stdin",
     "output_type": "stream",
     "text": [
      "Enter Num1 :  30\n"
     ]
    }
   ],
   "source": [
    "Num1=input(\"Enter Num1 : \")\n"
   ]
  },
  {
   "cell_type": "code",
   "execution_count": 2,
   "id": "2899d736-c7bb-4133-83ce-29acb81cbaa1",
   "metadata": {},
   "outputs": [
    {
     "name": "stdin",
     "output_type": "stream",
     "text": [
      "Enter Num2 :  50\n"
     ]
    }
   ],
   "source": [
    "Num2=input(\"Enter Num2 : \")\n",
    "\n"
   ]
  },
  {
   "cell_type": "code",
   "execution_count": 4,
   "id": "3825aa70-cd62-4492-ae57-5a65a15eaffe",
   "metadata": {},
   "outputs": [
    {
     "name": "stdout",
     "output_type": "stream",
     "text": [
      "3050\n"
     ]
    }
   ],
   "source": [
    "add=Num1+Num2\n",
    "print(add)"
   ]
  },
  {
   "cell_type": "code",
   "execution_count": 9,
   "id": "196cc817-2ba6-4784-9edb-9c8f5d3a55e2",
   "metadata": {},
   "outputs": [
    {
     "name": "stdin",
     "output_type": "stream",
     "text": [
      "Enter Num1 :  10\n",
      "Enter Num2 :  20\n"
     ]
    },
    {
     "name": "stdout",
     "output_type": "stream",
     "text": [
      "output is: 30\n"
     ]
    }
   ],
   "source": [
    "Num1=int(input(\"Enter Num1 : \"))\n",
    "Num2=int(input(\"Enter Num2 : \"))\n",
    "output=Num1+Num2\n",
    "print(\"output is:\",output)\n"
   ]
  },
  {
   "cell_type": "code",
   "execution_count": null,
   "id": "1b381036-a31d-42b2-87ef-5e9f5f7374a7",
   "metadata": {},
   "outputs": [],
   "source": []
  }
 ],
 "metadata": {
  "kernelspec": {
   "display_name": "Python 3 (ipykernel)",
   "language": "python",
   "name": "python3"
  },
  "language_info": {
   "codemirror_mode": {
    "name": "ipython",
    "version": 3
   },
   "file_extension": ".py",
   "mimetype": "text/x-python",
   "name": "python",
   "nbconvert_exporter": "python",
   "pygments_lexer": "ipython3",
   "version": "3.12.7"
  }
 },
 "nbformat": 4,
 "nbformat_minor": 5
}
