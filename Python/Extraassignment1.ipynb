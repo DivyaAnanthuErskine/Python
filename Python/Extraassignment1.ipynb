{
 "cells": [
  {
   "cell_type": "code",
   "execution_count": 1,
   "id": "39f4c8bb-0187-495a-9097-64150a1cfd5f",
   "metadata": {},
   "outputs": [
    {
     "name": "stdout",
     "output_type": "stream",
     "text": [
      "Hope AI\n"
     ]
    }
   ],
   "source": [
    "print(\"Hope AI\")\n"
   ]
  },
  {
   "cell_type": "code",
   "execution_count": 11,
   "id": "862c7da3-2205-402b-803f-0b6475d914c0",
   "metadata": {},
   "outputs": [
    {
     "name": "stdin",
     "output_type": "stream",
     "text": [
      "Enter your institute: Hope AI\n"
     ]
    }
   ],
   "source": [
    "a=input(\"Enter your institute:\")\n"
   ]
  },
  {
   "cell_type": "code",
   "execution_count": 10,
   "id": "769809fd-64e7-4065-b0ce-cd0275289419",
   "metadata": {},
   "outputs": [
    {
     "name": "stdin",
     "output_type": "stream",
     "text": [
      "Enter your name: Raj\n",
      "Enter your age: 15\n",
      "Enter your school name: Guru school\n",
      "Enter your degree: B.E CSE\n"
     ]
    }
   ],
   "source": [
    "a=input(\"Enter your name:\")\n",
    "b=input(\"Enter your age:\")\n",
    "c=input(\"Enter your school name:\")\n",
    "d=input(\"Enter your degree:\")\n"
   ]
  },
  {
   "cell_type": "code",
   "execution_count": 9,
   "id": "af654b57-f53d-43f0-b1df-33b6a043a12b",
   "metadata": {},
   "outputs": [
    {
     "name": "stdout",
     "output_type": "stream",
     "text": [
      "a=43\n",
      "b=43\n",
      "add: 77\n"
     ]
    }
   ],
   "source": [
    "a=43\n",
    "b=34\n",
    "add=a+b\n",
    "print(\"a=43\")\n",
    "print(\"b=43\")\n",
    "print(\"add:\",add)\n"
   ]
  },
  {
   "cell_type": "code",
   "execution_count": 12,
   "id": "97b2e7e1-a4ca-4d2e-9396-35bab0c2bd7e",
   "metadata": {},
   "outputs": [
    {
     "name": "stdout",
     "output_type": "stream",
     "text": [
      "a=43\n",
      "b=34\n",
      "sub: 9\n"
     ]
    }
   ],
   "source": [
    "a=43\n",
    "b=34\n",
    "sub=a-b\n",
    "print(\"a=43\")\n",
    "print(\"b=34\")\n",
    "print(\"sub:\",sub)\n",
    "\n"
   ]
  },
  {
   "cell_type": "code",
   "execution_count": 13,
   "id": "13367711-3bad-4b37-acf0-b66c510d05cf",
   "metadata": {},
   "outputs": [
    {
     "name": "stdout",
     "output_type": "stream",
     "text": [
      "a=63\n",
      "b=97\n",
      "mul: 6111\n"
     ]
    }
   ],
   "source": [
    "a=63\n",
    "b=97\n",
    "mul=a*b\n",
    "print(\"a=63\")\n",
    "print(\"b=97\")\n",
    "print(\"mul:\",mul)\n"
   ]
  },
  {
   "cell_type": "code",
   "execution_count": 14,
   "id": "3a37066f-526d-49a3-8441-f83a81ebd10e",
   "metadata": {},
   "outputs": [
    {
     "name": "stdout",
     "output_type": "stream",
     "text": [
      "a=76\n",
      "b=31\n",
      "float div: 2.4516129032258065\n"
     ]
    }
   ],
   "source": [
    "a=76\n",
    "b=31\n",
    "floatdiv=a/b\n",
    "print(\"a=76\")\n",
    "print(\"b=31\")\n",
    "print(\"float div:\", floatdiv)\n"
   ]
  },
  {
   "cell_type": "code",
   "execution_count": 15,
   "id": "707668af-d558-4f00-b7df-92d22b010030",
   "metadata": {},
   "outputs": [
    {
     "name": "stdout",
     "output_type": "stream",
     "text": [
      "a=76\n",
      "b=31\n",
      "floordiv: 2\n"
     ]
    }
   ],
   "source": [
    "a=76\n",
    "b=31\n",
    "floordiv=a//b\n",
    "print(\"a=76\")\n",
    "print(\"b=31\")\n",
    "print(\"floordiv:\",floordiv)\n"
   ]
  },
  {
   "cell_type": "code",
   "execution_count": 17,
   "id": "3714f7ac-2960-4646-a089-9fcc13ea727b",
   "metadata": {},
   "outputs": [
    {
     "name": "stdout",
     "output_type": "stream",
     "text": [
      "a=76\n",
      "b=31\n",
      "modulo: 14\n"
     ]
    }
   ],
   "source": [
    "a=76\n",
    "b=31\n",
    "print(\"a=76\")\n",
    "print(\"b=31\")\n",
    "modulo=a%b\n",
    "print(\"modulo:\", modulo)"
   ]
  },
  {
   "cell_type": "code",
   "execution_count": 18,
   "id": "35903f45-071f-4f20-8258-51050bb743f0",
   "metadata": {},
   "outputs": [
    {
     "name": "stdout",
     "output_type": "stream",
     "text": [
      "a=4\n",
      "b=4\n",
      "power: 256\n"
     ]
    }
   ],
   "source": [
    "a=4\n",
    "b=4\n",
    "power=a**b\n",
    "print(\"a=4\")\n",
    "print(\"b=4\")\n",
    "print(\"power:\",power)\n"
   ]
  },
  {
   "cell_type": "code",
   "execution_count": null,
   "id": "5942b954-ff67-46fd-8154-af1c216ea10c",
   "metadata": {},
   "outputs": [],
   "source": []
  }
 ],
 "metadata": {
  "kernelspec": {
   "display_name": "Python 3 (ipykernel)",
   "language": "python",
   "name": "python3"
  },
  "language_info": {
   "codemirror_mode": {
    "name": "ipython",
    "version": 3
   },
   "file_extension": ".py",
   "mimetype": "text/x-python",
   "name": "python",
   "nbconvert_exporter": "python",
   "pygments_lexer": "ipython3",
   "version": "3.12.7"
  }
 },
 "nbformat": 4,
 "nbformat_minor": 5
}
