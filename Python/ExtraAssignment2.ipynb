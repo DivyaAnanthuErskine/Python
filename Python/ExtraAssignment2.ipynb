{
 "cells": [
  {
   "cell_type": "code",
   "execution_count": 2,
   "id": "fb8d58b6-32a7-4048-b48b-d47f610ba258",
   "metadata": {},
   "outputs": [
    {
     "name": "stdout",
     "output_type": "stream",
     "text": [
      "0\n",
      "1\n",
      "2\n",
      "3\n",
      "4\n",
      "5\n",
      "6\n",
      "7\n",
      "8\n",
      "9\n",
      "10\n",
      "11\n",
      "12\n",
      "13\n",
      "14\n",
      "15\n",
      "16\n",
      "17\n",
      "18\n",
      "19\n"
     ]
    }
   ],
   "source": [
    "for num in range(0,20):\n",
    "   print(num)\n"
   ]
  },
  {
   "cell_type": "code",
   "execution_count": 7,
   "id": "f589dad5-fccc-443e-ae4b-a4767043b9c5",
   "metadata": {},
   "outputs": [
    {
     "name": "stdout",
     "output_type": "stream",
     "text": [
      "10 11 12 13 14 15 16 17 18 19 "
     ]
    }
   ],
   "source": [
    "for n in range(10,20):\n",
    "    print(n,end= ' ')"
   ]
  },
  {
   "cell_type": "code",
   "execution_count": 9,
   "id": "eb1c7ae3-8727-4f85-85d0-c34d9f5118c2",
   "metadata": {},
   "outputs": [
    {
     "name": "stdout",
     "output_type": "stream",
     "text": [
      "number of items in the list2:\n",
      "7\n"
     ]
    }
   ],
   "source": [
    "list2=[10, 20, 14, 55, 43, 87, 76]\n",
    "print(\"number of items in the list2:\")\n",
    "print(len(list2))\n",
    "    "
   ]
  },
  {
   "cell_type": "code",
   "execution_count": 11,
   "id": "3a80e324-5358-4011-99a4-a9aa3f6a7d85",
   "metadata": {},
   "outputs": [
    {
     "name": "stdout",
     "output_type": "stream",
     "text": [
      "Title\n",
      "A\n",
      "r\n",
      "t\n",
      "i\n",
      "f\n",
      "i\n",
      "c\n",
      "i\n",
      "a\n",
      "l\n",
      " \n",
      "I\n",
      "n\n",
      "t\n",
      "e\n",
      "l\n",
      "l\n",
      "i\n",
      "g\n",
      "e\n",
      "n\n",
      "c\n",
      "e\n"
     ]
    }
   ],
   "source": [
    "Title = \"Artificial Intelligence\"\n",
    "print(\"Title\")\n",
    "for n in Title:\n",
    "    print(n)\n",
    "    "
   ]
  },
  {
   "cell_type": "code",
   "execution_count": 14,
   "id": "417cfe93-21a7-49d2-ace7-0559bf6210a3",
   "metadata": {},
   "outputs": [
    {
     "name": "stdout",
     "output_type": "stream",
     "text": [
      "-Your Name-\n",
      "-Your Age-\n",
      "-Your Profession-\n"
     ]
    }
   ],
   "source": [
    "Name=\"-Your Name-\"\n",
    "age=\"-Your Age-\"\n",
    "prof=\"-Your Profession-\"\n",
    "print(Name)\n",
    "print(age)\n",
    "print(prof)\n"
   ]
  },
  {
   "cell_type": "code",
   "execution_count": 16,
   "id": "c5c80bcc-f86f-4776-8dd3-93cd29aec3a4",
   "metadata": {},
   "outputs": [
    {
     "name": "stdout",
     "output_type": "stream",
     "text": [
      "(1, 'Welcome', 2, 'Hope')\n"
     ]
    }
   ],
   "source": [
    "#tuples\n",
    "tup=(1, 'Welcome', 2, 'Hope')\n",
    "print(tup)\n",
    "\n"
   ]
  },
  {
   "cell_type": "code",
   "execution_count": 17,
   "id": "04bc049b-6b63-4124-ae15-9939b9035b69",
   "metadata": {},
   "outputs": [
    {
     "name": "stdout",
     "output_type": "stream",
     "text": [
      "(0, 1, 2, 3, 'python', 'HOPE')\n"
     ]
    }
   ],
   "source": [
    "\n",
    "tup1=(0, 1, 2, 3)\n",
    "tup2=('python', 'HOPE')\n",
    "tup=tup1+tup2\n",
    "print(tup)\n"
   ]
  },
  {
   "cell_type": "code",
   "execution_count": 20,
   "id": "ac688683-53ae-4160-a0f6-eb820e3ea7ee",
   "metadata": {},
   "outputs": [
    {
     "name": "stdout",
     "output_type": "stream",
     "text": [
      "19 is odd\n",
      "25 is odd\n",
      "1 is odd\n"
     ]
    }
   ],
   "source": [
    "#oddnumb in the list\n",
    "numlist=(20,10,16,19,25,1,276,188)\n",
    "for n in numlist:\n",
    "    if(n%2!=0):\n",
    "        print(n,\"is odd\")\n",
    "        \n",
    "    \n"
   ]
  },
  {
   "cell_type": "code",
   "execution_count": 21,
   "id": "9f9c4abb-95d1-4336-8fb7-ba49d47c5813",
   "metadata": {},
   "outputs": [
    {
     "name": "stdout",
     "output_type": "stream",
     "text": [
      "20 is even\n",
      "10 is even\n",
      "16 is even\n",
      "276 is even\n",
      "188 is even\n"
     ]
    }
   ],
   "source": [
    "#even numbers in the list\n",
    "nolist= (20,10,16,19,25,1,276,188)\n",
    "for n in nolist:\n",
    "    if(n%2==0):\n",
    "        print(n,\"is even\")\n",
    "        "
   ]
  },
  {
   "cell_type": "code",
   "execution_count": null,
   "id": "3633aae7-4859-4515-99b6-7eaba3d3429f",
   "metadata": {},
   "outputs": [],
   "source": []
  }
 ],
 "metadata": {
  "kernelspec": {
   "display_name": "Python 3 (ipykernel)",
   "language": "python",
   "name": "python3"
  },
  "language_info": {
   "codemirror_mode": {
    "name": "ipython",
    "version": 3
   },
   "file_extension": ".py",
   "mimetype": "text/x-python",
   "name": "python",
   "nbconvert_exporter": "python",
   "pygments_lexer": "ipython3",
   "version": "3.12.7"
  }
 },
 "nbformat": 4,
 "nbformat_minor": 5
}
