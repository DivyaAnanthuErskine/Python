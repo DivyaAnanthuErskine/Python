{
 "cells": [
  {
   "cell_type": "code",
   "execution_count": 1,
   "id": "4991b2a8-04d4-405e-903d-1338ab4279ed",
   "metadata": {},
   "outputs": [
    {
     "name": "stdout",
     "output_type": "stream",
     "text": [
      "Subfields in AI are:\n",
      "Machine Learning\n",
      "Neural Networks\n",
      "Vision\n",
      "Robotics\n",
      "Speech Processing\n",
      "Natural Language Processing\n"
     ]
    }
   ],
   "source": [
    "#subfields in AI\n",
    "def subfields():\n",
    "    print(\"Machine Learning\")\n",
    "    print(\"Neural Networks\")\n",
    "    print(\"Vision\")\n",
    "    print(\"Robotics\")\n",
    "    print(\"Speech Processing\")\n",
    "    print(\"Natural Language Processing\")\n",
    "\n",
    "print(\"Subfields in AI are:\")\n",
    "subfields()\n",
    "    \n",
    "    "
   ]
  },
  {
   "cell_type": "code",
   "execution_count": 6,
   "id": "240ea5f8-4dbb-464d-9bc9-09f2b82d3746",
   "metadata": {},
   "outputs": [
    {
     "name": "stdin",
     "output_type": "stream",
     "text": [
      "Enter a number: 52452\n"
     ]
    },
    {
     "name": "stdout",
     "output_type": "stream",
     "text": [
      "52452 is Even number\n"
     ]
    }
   ],
   "source": [
    "#odd or even\n",
    "def Oddeven():\n",
    "    num= int(input(\"Enter a number:\"))\n",
    "    if(num%2!=0):\n",
    "        print(num,\"is Odd number\")\n",
    "    else:\n",
    "        print(num,\"is Even number\")\n",
    "\n",
    "Oddeven()\n",
    "\n",
    "        \n",
    "    \n",
    "    "
   ]
  },
  {
   "cell_type": "code",
   "execution_count": 13,
   "id": "436690ed-161f-40d5-b737-4275529641a8",
   "metadata": {},
   "outputs": [
    {
     "name": "stdin",
     "output_type": "stream",
     "text": [
      "Your Gender: Male\n",
      "Your age: 20\n"
     ]
    },
    {
     "name": "stdout",
     "output_type": "stream",
     "text": [
      "NotEligible\n"
     ]
    }
   ],
   "source": [
    "#Create a function that tells elegibility of marriage for male and female according to their age limit like 21 for male and 18 for female\n",
    "def Eligible():\n",
    "    Gender=input(\"Your Gender:\")\n",
    "    age=int(input(\"Your age:\"))\n",
    "    Male=\"Male\"\n",
    "    Female=\"Female\"\n",
    "    Elg=\"Eligible\"\n",
    "    Nelg=\"NotEligible\"\n",
    "    if(Gender==Male):\n",
    "        if(age>21):\n",
    "            print(Elg)\n",
    "        else:\n",
    "            print(Nelg)\n",
    "            \n",
    "    elif(Gender==Female):\n",
    "        if(age>18):\n",
    "            print(Elg)\n",
    "        else:\n",
    "            print(Nelg)\n",
    "    else:\n",
    "        print(\"Not Eligible\")\n",
    "\n",
    "Eligible()\n"
   ]
  },
  {
   "cell_type": "code",
   "execution_count": 2,
   "id": "92d133bf-d90c-429e-8cb2-4d010b2f04f9",
   "metadata": {},
   "outputs": [
    {
     "name": "stdin",
     "output_type": "stream",
     "text": [
      "Subject1: 98\n",
      "Subject2: 87\n",
      "Subject3: 95\n",
      "Subject4: 95\n",
      "Subject5: 93\n"
     ]
    },
    {
     "name": "stdout",
     "output_type": "stream",
     "text": [
      "Total is: 468\n",
      "Percentage is: 93.60000000000001\n"
     ]
    }
   ],
   "source": [
    "#calculate the percentage of your 10th mark\n",
    "def Percentage():\n",
    "    subject1=int(input(\"Subject1:\"))\n",
    "    subject2=int(input(\"Subject2:\"))\n",
    "    subject3=int(input(\"Subject3:\"))\n",
    "    subject4=int(input(\"Subject4:\"))\n",
    "    subject5=int(input(\"Subject5:\"))\n",
    "    Total=subject1+subject2+subject3+subject4+subject5\n",
    "    print(\"Total is:\", Total)\n",
    "    Percent=float((Total/500)*100)\n",
    "    print(\"Percentage is:\", Percent)\n",
    "\n",
    "Percentage()\n",
    "\n",
    "    "
   ]
  },
  {
   "cell_type": "code",
   "execution_count": 6,
   "id": "15885a99-e5b6-4e3c-a07d-56eae96add4d",
   "metadata": {},
   "outputs": [
    {
     "name": "stdin",
     "output_type": "stream",
     "text": [
      "Height: 32\n",
      "Breadth: 34\n"
     ]
    },
    {
     "name": "stdout",
     "output_type": "stream",
     "text": [
      "Area of Triangle: 544.0\n"
     ]
    },
    {
     "name": "stdin",
     "output_type": "stream",
     "text": [
      "Height1: 2\n",
      "Height2: 4\n",
      "Breadth1: 4\n"
     ]
    },
    {
     "name": "stdout",
     "output_type": "stream",
     "text": [
      "Perimeter of Triangle: 10\n"
     ]
    }
   ],
   "source": [
    "#print area and perimeter of triangle using class and functions\n",
    "def Triangle():\n",
    "    Height=int(input(\"Height:\"))\n",
    "    Breadth=int(input(\"Breadth:\"))\n",
    "    Area=float((Height*Breadth)/2)\n",
    "    print(\"Area of Triangle:\",Area)\n",
    "    Height1=int(input(\"Height1:\"))\n",
    "    Height2=int(input(\"Height2:\"))\n",
    "    Breadth1=int(input(\"Breadth1:\"))\n",
    "    Perimeter=Height1+Height2+Breadth1\n",
    "    print(\"Perimeter of Triangle:\",Perimeter)\n",
    "\n",
    "Triangle()\n",
    "\n",
    "    \n",
    "    \n",
    "\n",
    "\n"
   ]
  },
  {
   "cell_type": "code",
   "execution_count": null,
   "id": "2531c7be-8155-4024-b6ad-bcf8f2597014",
   "metadata": {},
   "outputs": [],
   "source": []
  }
 ],
 "metadata": {
  "kernelspec": {
   "display_name": "Python 3 (ipykernel)",
   "language": "python",
   "name": "python3"
  },
  "language_info": {
   "codemirror_mode": {
    "name": "ipython",
    "version": 3
   },
   "file_extension": ".py",
   "mimetype": "text/x-python",
   "name": "python",
   "nbconvert_exporter": "python",
   "pygments_lexer": "ipython3",
   "version": "3.12.7"
  }
 },
 "nbformat": 4,
 "nbformat_minor": 5
}
