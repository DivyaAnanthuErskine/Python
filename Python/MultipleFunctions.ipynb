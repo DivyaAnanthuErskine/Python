{
 "cells": [
  {
   "cell_type": "code",
   "execution_count": 4,
   "id": "b79b0500-d56c-4004-99ea-f690214e5dc0",
   "metadata": {},
   "outputs": [
    {
     "name": "stdin",
     "output_type": "stream",
     "text": [
      "Enter a number: 5\n"
     ]
    },
    {
     "name": "stdout",
     "output_type": "stream",
     "text": [
      "5 is Odd number\n"
     ]
    }
   ],
   "source": [
    "from MultipleFunctions import MultipleFunctions\n",
    "\n",
    "MultipleFunctions.Oddeven()\n",
    "\n",
    "\n"
   ]
  },
  {
   "cell_type": "code",
   "execution_count": 16,
   "id": "c1116914-2b0f-438e-b5fa-c11208d09b2e",
   "metadata": {},
   "outputs": [
    {
     "name": "stdout",
     "output_type": "stream",
     "text": [
      "Machine Learning\n",
      "Neural Networks\n",
      "Vision\n",
      "Robotics\n",
      "Speech Processing\n",
      "Natural Language Processing\n"
     ]
    }
   ],
   "source": [
    "MultipleFunctions.subfields()\n"
   ]
  },
  {
   "cell_type": "code",
   "execution_count": 8,
   "id": "551d1802-db91-4164-b55a-a7d8d507c9ab",
   "metadata": {},
   "outputs": [
    {
     "name": "stdin",
     "output_type": "stream",
     "text": [
      "Your Gender: Male\n",
      "Your age: 20\n"
     ]
    },
    {
     "name": "stdout",
     "output_type": "stream",
     "text": [
      "NotEligible\n"
     ]
    }
   ],
   "source": [
    "MultipleFunctions.Eligible()"
   ]
  },
  {
   "cell_type": "code",
   "execution_count": 9,
   "id": "d25c9859-e82a-4568-9086-3752568e815a",
   "metadata": {},
   "outputs": [
    {
     "name": "stdin",
     "output_type": "stream",
     "text": [
      "Subject1: 98\n",
      "Subject2: 87\n",
      "Subject3: 95\n",
      "Subject4: 95\n",
      "Subject5: 93\n"
     ]
    },
    {
     "name": "stdout",
     "output_type": "stream",
     "text": [
      "Total is: 468\n",
      "Percentage is: 93.60000000000001\n"
     ]
    }
   ],
   "source": [
    "MultipleFunctions.Percentage()"
   ]
  },
  {
   "cell_type": "code",
   "execution_count": 10,
   "id": "769ef3cd-e6fd-4bf8-adbe-eed6f1bca833",
   "metadata": {},
   "outputs": [
    {
     "name": "stdin",
     "output_type": "stream",
     "text": [
      "Height: 32\n",
      "Breadth: 34\n"
     ]
    },
    {
     "name": "stdout",
     "output_type": "stream",
     "text": [
      "Area of Triangle: 544.0\n"
     ]
    },
    {
     "name": "stdin",
     "output_type": "stream",
     "text": [
      "Height1: 2\n",
      "Height2: 4\n",
      "Breadth1: 4\n"
     ]
    },
    {
     "name": "stdout",
     "output_type": "stream",
     "text": [
      "Perimeter of Triangle: 10\n"
     ]
    }
   ],
   "source": [
    "MultipleFunctions.Triangle()\n"
   ]
  },
  {
   "cell_type": "code",
   "execution_count": 17,
   "id": "8f999832-f44d-487c-a6a9-eda596881229",
   "metadata": {},
   "outputs": [
    {
     "name": "stdout",
     "output_type": "stream",
     "text": [
      "Machine Learning\n",
      "Neural Networks\n",
      "Vision\n",
      "Robotics\n",
      "Speech Processing\n",
      "Natural Language Processing\n"
     ]
    }
   ],
   "source": [
    "MultipleFunctions.subfields()\n"
   ]
  },
  {
   "cell_type": "code",
   "execution_count": null,
   "id": "a6f1cd15-7d13-44eb-8972-9269a09e14c4",
   "metadata": {},
   "outputs": [],
   "source": []
  }
 ],
 "metadata": {
  "kernelspec": {
   "display_name": "Python 3 (ipykernel)",
   "language": "python",
   "name": "python3"
  },
  "language_info": {
   "codemirror_mode": {
    "name": "ipython",
    "version": 3
   },
   "file_extension": ".py",
   "mimetype": "text/x-python",
   "name": "python",
   "nbconvert_exporter": "python",
   "pygments_lexer": "ipython3",
   "version": "3.12.7"
  }
 },
 "nbformat": 4,
 "nbformat_minor": 5
}
