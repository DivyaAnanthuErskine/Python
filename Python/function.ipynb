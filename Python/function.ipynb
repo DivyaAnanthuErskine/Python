{
 "cells": [
  {
   "cell_type": "code",
   "execution_count": 3,
   "id": "a14ed327-0c86-4fca-8a43-cd09038877b3",
   "metadata": {},
   "outputs": [
    {
     "name": "stdout",
     "output_type": "stream",
     "text": [
      "children\n",
      "Citizen\n",
      "Senior Citizen\n",
      "Adult\n",
      "Senior Citizen\n"
     ]
    }
   ],
   "source": [
    "#func without return\n",
    "lists=[5,45,60,34,90]\n",
    "def agecategory():\n",
    "    for age in lists:\n",
    "        if(age<18):\n",
    "            print(\"children\")\n",
    "        elif(age<35):\n",
    "            print(\"Adult\")\n",
    "        elif(age<59):\n",
    "            print(\"Citizen\")\n",
    "        else:\n",
    "            print(\"Senior Citizen\")\n",
    "agecategory()\n",
    "        "
   ]
  },
  {
   "cell_type": "code",
   "execution_count": 6,
   "id": "e0ff2e3c-0767-4ab6-bcac-dd4933213a00",
   "metadata": {},
   "outputs": [
    {
     "name": "stdin",
     "output_type": "stream",
     "text": [
      "Enter your age: 5\n"
     ]
    },
    {
     "name": "stdout",
     "output_type": "stream",
     "text": [
      "children\n",
      "children\n"
     ]
    }
   ],
   "source": [
    "#func with return\n",
    "age=int(input(\"Enter your age:\"))\n",
    "def agecategory():\n",
    "        if(age<18):\n",
    "            print(\"children\")\n",
    "            cate=\"children\"\n",
    "        elif(age<35):\n",
    "            print(\"Adult\")\n",
    "            cate=\"Adult\"\n",
    "        elif(age<59):\n",
    "            print(\"Citizen\")\n",
    "            cate=\"Citizen\"\n",
    "        else:\n",
    "            print(\"Senior Citizen\")\n",
    "            cate=\"Senior Citizen\"\n",
    "        return cate\n",
    "agecate=agecategory()\n",
    "print(agecate)\n",
    "\n"
   ]
  },
  {
   "cell_type": "code",
   "execution_count": 7,
   "id": "fabfc10f-06d2-48b4-a40a-9b30a553d60e",
   "metadata": {},
   "outputs": [
    {
     "name": "stdin",
     "output_type": "stream",
     "text": [
      "Enter your age: 45\n"
     ]
    },
    {
     "name": "stdout",
     "output_type": "stream",
     "text": [
      "Citizen\n",
      "None\n"
     ]
    }
   ],
   "source": [
    "#func without return\n",
    "age=int(input(\"Enter your age:\"))\n",
    "def agecategorynoret():\n",
    "        if(age<18):\n",
    "            print(\"children\")\n",
    "            cate=\"children\"\n",
    "        elif(age<35):\n",
    "            print(\"Adult\")\n",
    "            cate=\"Adult\"\n",
    "        elif(age<59):\n",
    "            print(\"Citizen\")\n",
    "            cate=\"Citizen\"\n",
    "        else:\n",
    "            print(\"Senior Citizen\")\n",
    "            cate=\"Senior Citizen\"\n",
    "        \n",
    "agecate=agecategorynoret()\n",
    "print(agecate)"
   ]
  },
  {
   "cell_type": "code",
   "execution_count": 8,
   "id": "e87f98b8-9595-44e7-bcce-ca5ee7fecd2b",
   "metadata": {},
   "outputs": [
    {
     "name": "stdin",
     "output_type": "stream",
     "text": [
      "Enter the number: 5\n"
     ]
    },
    {
     "name": "stdout",
     "output_type": "stream",
     "text": [
      "Odd number\n"
     ]
    },
    {
     "data": {
      "text/plain": [
       "'Odd number'"
      ]
     },
     "execution_count": 8,
     "metadata": {},
     "output_type": "execute_result"
    }
   ],
   "source": [
    "#oddevenfunc\n",
    "def oddeven():\n",
    "    num=int(input(\"Enter the number:\"))\n",
    "    if((num%2)==0):\n",
    "        print(\"Even number\")\n",
    "        mess=\"Even number\"\n",
    "    else:\n",
    "        print(\"Odd number\")\n",
    "        mess=\"Odd number\"\n",
    "    return mess\n",
    "\n",
    "oddeven()\n",
    "\n",
    "    "
   ]
  },
  {
   "cell_type": "code",
   "execution_count": 11,
   "id": "ce78712a-f710-4de9-8621-46b94be648e4",
   "metadata": {},
   "outputs": [
    {
     "name": "stdout",
     "output_type": "stream",
     "text": [
      "The addition of two given numbers: 14\n"
     ]
    }
   ],
   "source": [
    "#func with parameters\n",
    "def add(num1,num2):\n",
    "    addition=num1+num2\n",
    "    message=print(\"The addition of two given numbers:\",addition)\n",
    "    return message\n",
    "add(5,9)\n"
   ]
  },
  {
   "cell_type": "code",
   "execution_count": null,
   "id": "60440d6b-5cf3-41a1-a1c7-61e155561263",
   "metadata": {},
   "outputs": [],
   "source": []
  }
 ],
 "metadata": {
  "kernelspec": {
   "display_name": "Python 3 (ipykernel)",
   "language": "python",
   "name": "python3"
  },
  "language_info": {
   "codemirror_mode": {
    "name": "ipython",
    "version": 3
   },
   "file_extension": ".py",
   "mimetype": "text/x-python",
   "name": "python",
   "nbconvert_exporter": "python",
   "pygments_lexer": "ipython3",
   "version": "3.12.7"
  }
 },
 "nbformat": 4,
 "nbformat_minor": 5
}
